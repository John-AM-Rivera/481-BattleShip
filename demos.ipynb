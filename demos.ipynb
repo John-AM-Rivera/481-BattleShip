{
 "cells": [
  {
   "cell_type": "code",
   "execution_count": 1,
   "metadata": {},
   "outputs": [],
   "source": [
    "import os, json\n",
    "from pprint import pprint"
   ]
  },
  {
   "cell_type": "code",
   "execution_count": 2,
   "metadata": {},
   "outputs": [],
   "source": [
    "import numpy as np\n",
    "import pandas as pd\n",
    "import matplotlib.pyplot as plt\n"
   ]
  },
  {
   "cell_type": "code",
   "execution_count": 3,
   "metadata": {},
   "outputs": [],
   "source": [
    "from src import ROWS, COLS, BOARD_SIZE, SHIP_LENS\n",
    "from src.placements import *\n",
    "from src.strategy import *\n",
    "from src.game import Game, Simulation\n",
    "from src.board import Board, SquareState"
   ]
  },
  {
   "cell_type": "code",
   "execution_count": 4,
   "metadata": {},
   "outputs": [],
   "source": [
    "%matplotlib inline"
   ]
  },
  {
   "cell_type": "code",
   "execution_count": 6,
   "metadata": {},
   "outputs": [
    {
     "data": {
      "image/png": "[encoded data removed]",
      "text/plain": [
       "<Figure size 432x288 with 2 Axes>"
      ]
     },
     "metadata": {
      "needs_background": "light"
     },
     "output_type": "display_data"
    }
   ],
   "source": [
    "# probability of finding a ship in a given square with RandomPlacement\n",
    "RandomPlacement.show_distribution(1000)"
   ]
  },
  {
   "cell_type": "code",
   "execution_count": 5,
   "metadata": {},
   "outputs": [
    {
     "name": "stdout",
     "output_type": "stream",
     "text": [
      "Simulating 10 (ish) seconds of RandomStrategy and RandomPlacement in 8 processes\n"
     ]
    }
   ],
   "source": [
    "# simulate random strategy against random placement\n",
    "sim = Simulation(RandomStrategy, RandomPlacement).run(max_secs=10)\n",
    "pprint(sim.metrics())"
   ]
  },
  {
   "cell_type": "code",
   "execution_count": null,
   "metadata": {},
   "outputs": [
    {
     "name": "stdout",
     "output_type": "stream",
     "text": [
      "Simulating 10 (ish) seconds of EliminationStrategy and RandomPlacement in 8 processes\n",
      "{'avg_turns': 62.785714285714285,\n",
      " 'n_simulations': 14,\n",
      " 'std_dev_turns': 6.526633035149916,\n",
      " 'time': {'cumulative_sec': {'init': 0.791439946857281,\n",
      "                             'play': 124.07159022102132,\n",
      "                             'total': 124.86323766608257},\n",
      "          'per_game_sec': {'init': 0.056531424775520075,\n",
      "                           'play': 8.862256444358666,\n",
      "                           'total': 8.91880269043447},\n",
      "          'per_turn_ms': 141.1508421172029},\n",
      " 'total_turns': 879}\n"
     ]
    }
   ],
   "source": [
    "# simulate elimination strategy against random placement\n",
    "sim = Simulation(EliminationStrategy, RandomPlacement).run(max_secs=10)\n",
    "pprint(sim.metrics())"
   ]
  },
  {
   "cell_type": "code",
   "execution_count": null,
   "metadata": {},
   "outputs": [
    {
     "name": "stdout",
     "output_type": "stream",
     "text": [
      "Simulating 10 (ish) seconds of SearchHuntStrategy and RandomPlacement in 8 processes\n",
      "{'avg_turns': 68.80390143737166,\n",
      " 'n_simulations': 1948,\n",
      " 'std_dev_turns': 16.71544506961438,\n",
      " 'time': {'cumulative_sec': {'init': 50.25156317418441,\n",
      "                             'play': 29.83377433172427,\n",
      "                             'total': 80.11720385507215},\n",
      "          'per_game_sec': {'init': 0.02579649033582362,\n",
      "                           'play': 0.015315079225731146,\n",
      "                           'total': 0.04112792805701856},\n",
      "          'per_turn_ms': 0.22259027330988787},\n",
      " 'total_turns': 134030}\n"
     ]
    }
   ],
   "source": [
    "# simulate random strategy against random placement\n",
    "sim = Simulation(SearchHuntStrategy, RandomPlacement).run(max_secs=10)\n",
    "pprint(sim.metrics())"
   ]
  },
  {
   "cell_type": "code",
   "execution_count": null,
   "metadata": {},
   "outputs": [
    {
     "data": {
      "text/html": [
       "<video src=\".ipynb_temp.mp4\" controls  >\n",
       "      Your browser does not support the <code>video</code> element.\n",
       "    </video>"
      ],
      "text/plain": [
       "<IPython.core.display.Video object>"
      ]
     },
     "execution_count": 12,
     "metadata": {},
     "output_type": "execute_result"
    }
   ],
   "source": [
    "sim = Simulation(SearchHuntStrategy, RandomPlacement)\n",
    "sim.display_one(interval=100, ipynb=True)"
   ]
  },
  {
   "cell_type": "code",
   "execution_count": 5,
   "metadata": {},
   "outputs": [
    {
     "name": "stdout",
     "output_type": "stream",
     "text": [
      "Simulating 20 (ish) seconds of EliminationStrategy and RandomPlacement in 8 processes\n"
     ]
    },
    {
     "data": {
      "text/plain": [
       "{'n_simulations': 24,\n",
       " 'total_turns': 1457,\n",
       " 'avg_turns': 60.708333333333336,\n",
       " 'std_dev_turns': 9.444924415908378,\n",
       " 'time': {'cumulative_sec': {'init': 1.177952188940253,\n",
       "   'play': 212.4385575899505,\n",
       "   'total': 213.6168228200986},\n",
       "  'per_game_sec': {'init': 0.04908134120584388,\n",
       "   'play': 8.851606566247938,\n",
       "   'total': 8.900700950837441},\n",
       "  'per_turn_ms': 145.80546162659607}}"
      ]
     },
     "execution_count": 5,
     "metadata": {},
     "output_type": "execute_result"
    }
   ],
   "source": [
    "sim = Simulation(EliminationStrategy, RandomPlacement).run()\n",
    "sim.metrics()"
   ]
  },
  {
   "cell_type": "code",
   "execution_count": 6,
   "metadata": {},
   "outputs": [
    {
     "name": "stdout",
     "output_type": "stream",
     "text": [
      "Simulating 20 (ish) seconds of EliminationStrategyV2 and RandomPlacement in 8 processes\n"
     ]
    },
    {
     "data": {
      "text/plain": [
       "{'n_simulations': 929,\n",
       " 'total_turns': 57146,\n",
       " 'avg_turns': 61.51345532831001,\n",
       " 'std_dev_turns': 8.63804398484821,\n",
       " 'time': {'cumulative_sec': {'init': 103.60729928204091,\n",
       "   'play': 57.00783833919559,\n",
       "   'total': 160.62815937004052},\n",
       "  'per_game_sec': {'init': 0.11152561817227225,\n",
       "   'play': 0.06136473448783163,\n",
       "   'total': 0.17290436961253017},\n",
       "  'per_turn_ms': 0.9975823039092078}}"
      ]
     },
     "execution_count": 6,
     "metadata": {},
     "output_type": "execute_result"
    }
   ],
   "source": [
    "sim = Simulation(EliminationStrategyV2, RandomPlacement).run()\n",
    "sim.metrics()"
   ]
  }
 ],
 "metadata": {
  "interpreter": {
   "hash": "b9a52ffdf267b4e42358d44cfde492470604e372a9e150a7a9444f271c46d65e"
  },
  "kernelspec": {
   "display_name": "Python 3.10.2 64-bit ('battleship': conda)",
   "language": "python",
   "name": "python3"
  },
  "language_info": {
   "codemirror_mode": {
    "name": "ipython",
    "version": 3
   },
   "file_extension": ".py",
   "mimetype": "text/x-python",
   "name": "python",
   "nbconvert_exporter": "python",
   "pygments_lexer": "ipython3",
   "version": "3.10.2"
  },
  "orig_nbformat": 4
 },
 "nbformat": 4,
 "nbformat_minor": 2
}
