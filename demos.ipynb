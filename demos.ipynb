{
 "cells": [
  {
   "cell_type": "code",
   "execution_count": 1,
   "metadata": {},
   "outputs": [],
   "source": [
    "import os, json\n",
    "from pprint import pprint"
   ]
  },
  {
   "cell_type": "code",
   "execution_count": 2,
   "metadata": {},
   "outputs": [],
   "source": [
    "import numpy as np\n",
    "import pandas as pd\n",
    "import matplotlib.pyplot as plt"
   ]
  },
  {
   "cell_type": "code",
   "execution_count": 3,
   "metadata": {},
   "outputs": [],
   "source": [
    "from src import ROWS, COLS, BOARD_SIZE, SHIP_LENS\n",
    "from src.placements import *\n",
    "from src.strategy import *\n",
    "from src.game import Game, Simulation\n",
    "from src.board import Board, SquareState"
   ]
  },
  {
   "cell_type": "code",
   "execution_count": 4,
   "metadata": {},
   "outputs": [
    {
     "data": {
      "image/png": "[encoded data removed]",
      "text/plain": [
       "<Figure size 432x288 with 2 Axes>"
      ]
     },
     "metadata": {
      "needs_background": "light"
     },
     "output_type": "display_data"
    }
   ],
   "source": [
    "# probability of finding a ship in a given square with RandomPlacement\n",
    "RandomPlacement.show_distribution(1000)"
   ]
  },
  {
   "cell_type": "code",
   "execution_count": 5,
   "metadata": {},
   "outputs": [
    {
     "name": "stdout",
     "output_type": "stream",
     "text": [
      "Simulating 10 seconds of RandomStrategy and RandomPlacement in 8 processes\n",
      "{'avg_turns': 95.50923361034164,\n",
      " 'n_simulations': 2166,\n",
      " 'std_dev_turns': 4.916726465407506,\n",
      " 'time': {'cumulative_sec': {'init': 44.667692433693446,\n",
      "                             'play': 35.366798148839734,\n",
      "                             'total': 80.0639519180404},\n",
      "          'per_game_sec': {'init': 0.02062220333965533,\n",
      "                           'play': 0.016328161656897384,\n",
      "                           'total': 0.03696396672116362},\n",
      "          'per_turn_ms': 0.17095898521720929},\n",
      " 'total_turns': 206873}\n"
     ]
    }
   ],
   "source": [
    "# simulate random strategy against random placement\n",
    "sim = Simulation(RandomStrategy, RandomPlacement).run(max_secs=10)\n",
    "pprint(sim.metrics())"
   ]
  },
  {
   "cell_type": "code",
   "execution_count": 6,
   "metadata": {},
   "outputs": [
    {
     "name": "stdout",
     "output_type": "stream",
     "text": [
      "Simulating 10 seconds of EliminationStrategy and RandomPlacement in 8 processes\n",
      "{'avg_turns': 64.2,\n",
      " 'n_simulations': 10,\n",
      " 'std_dev_turns': 10.6,\n",
      " 'time': {'cumulative_sec': {'init': 0.758241614094004,\n",
      "                             'play': 89.47537483426277,\n",
      "                             'total': 90.23376370198093},\n",
      "          'per_game_sec': {'init': 0.0758241614094004,\n",
      "                           'play': 8.947537483426277,\n",
      "                           'total': 9.023376370198093},\n",
      "          'per_turn_ms': 139.36974273249652},\n",
      " 'total_turns': 642}\n"
     ]
    }
   ],
   "source": [
    "# simulate elimination strategy against random placement\n",
    "sim = Simulation(EliminationStrategy, RandomPlacement).run(max_secs=10)\n",
    "pprint(sim.metrics())"
   ]
  },
  {
   "cell_type": "code",
   "execution_count": null,
   "metadata": {},
   "outputs": [],
   "source": []
  }
 ],
 "metadata": {
  "interpreter": {
   "hash": "b9a52ffdf267b4e42358d44cfde492470604e372a9e150a7a9444f271c46d65e"
  },
  "kernelspec": {
   "display_name": "Python 3.10.2 64-bit ('battleship': conda)",
   "language": "python",
   "name": "python3"
  },
  "language_info": {
   "codemirror_mode": {
    "name": "ipython",
    "version": 3
   },
   "file_extension": ".py",
   "mimetype": "text/x-python",
   "name": "python",
   "nbconvert_exporter": "python",
   "pygments_lexer": "ipython3",
   "version": "3.10.2"
  },
  "orig_nbformat": 4
 },
 "nbformat": 4,
 "nbformat_minor": 2
}
