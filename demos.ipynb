{
 "cells": [
  {
   "cell_type": "code",
   "execution_count": 1,
   "metadata": {},
   "outputs": [],
   "source": [
    "import os, json\n",
    "from pprint import pprint"
   ]
  },
  {
   "cell_type": "code",
   "execution_count": 2,
   "metadata": {},
   "outputs": [],
   "source": [
    "import numpy as np\n",
    "import pandas as pd\n",
    "import matplotlib.pyplot as plt\n"
   ]
  },
  {
   "cell_type": "code",
   "execution_count": 3,
   "metadata": {},
   "outputs": [],
   "source": [
    "from src import ROWS, COLS, BOARD_SIZE, SHIP_LENS\n",
    "from src.placements import *\n",
    "from src.strategy import *\n",
    "from src.game import Game, Simulation\n",
    "from src.board import Board, SquareState"
   ]
  },
  {
   "cell_type": "code",
   "execution_count": 4,
   "metadata": {},
   "outputs": [],
   "source": [
    "%matplotlib inline"
   ]
  },
  {
   "cell_type": "code",
   "execution_count": 5,
   "metadata": {},
   "outputs": [
    {
     "data": {
      "image/png": "[encoded data removed]",
      "text/plain": [
       "<Figure size 432x288 with 2 Axes>"
      ]
     },
     "metadata": {
      "needs_background": "light"
     },
     "output_type": "display_data"
    }
   ],
   "source": [
    "# probability of finding a ship in a given square with RandomPlacement\n",
    "RandomPlacement.show_distribution(1000)"
   ]
  },
  {
   "cell_type": "code",
   "execution_count": 6,
   "metadata": {},
   "outputs": [
    {
     "name": "stdout",
     "output_type": "stream",
     "text": [
      "Simulating 10 (ish) seconds of RandomStrategy and RandomPlacement in 8 processes\n",
      "{'avg_turns': 95.41012124406959,\n",
      " 'n_simulations': 1897,\n",
      " 'std_dev_turns': 4.715575291302872,\n",
      " 'time': {'cumulative_sec': {'init': 44.20070421369746,\n",
      "                             'play': 35.89671231928514,\n",
      "                             'total': 80.12175034190295},\n",
      "          'per_game_sec': {'init': 0.02330031851011991,\n",
      "                           'play': 0.018922884722870396,\n",
      "                           'total': 0.04223603075482496},\n",
      "          'per_turn_ms': 0.19833204775480345},\n",
      " 'total_turns': 180993}\n"
     ]
    }
   ],
   "source": [
    "# simulate random strategy against random placement\n",
    "sim = Simulation(RandomStrategy, RandomPlacement).run(max_secs=10)\n",
    "pprint(sim.metrics())"
   ]
  },
  {
   "cell_type": "code",
   "execution_count": 7,
   "metadata": {},
   "outputs": [
    {
     "name": "stdout",
     "output_type": "stream",
     "text": [
      "Simulating 10 (ish) seconds of EliminationStrategy and RandomPlacement in 8 processes\n",
      "{'avg_turns': 62.75,\n",
      " 'n_simulations': 8,\n",
      " 'std_dev_turns': 10.158124826955023,\n",
      " 'time': {'cumulative_sec': {'init': 0.6683660969138145,\n",
      "                             'play': 106.83583394886227,\n",
      "                             'total': 107.50432385195745},\n",
      "          'per_game_sec': {'init': 0.08354576211422682,\n",
      "                           'play': 13.354479243607784,\n",
      "                           'total': 13.438040481494681},\n",
      "          'per_turn_ms': 212.8203863523153},\n",
      " 'total_turns': 502}\n"
     ]
    }
   ],
   "source": [
    "# simulate elimination strategy against random placement\n",
    "sim = Simulation(EliminationStrategy, RandomPlacement).run(max_secs=10)\n",
    "pprint(sim.metrics())"
   ]
  },
  {
   "cell_type": "code",
   "execution_count": 8,
   "metadata": {},
   "outputs": [
    {
     "name": "stdout",
     "output_type": "stream",
     "text": [
      "Simulating 10 (ish) seconds of SearchHuntStrategy and RandomPlacement in 8 processes\n",
      "{'avg_turns': 69.58375634517766,\n",
      " 'n_simulations': 1379,\n",
      " 'std_dev_turns': 17.253454975380375,\n",
      " 'time': {'cumulative_sec': {'init': 49.25584299431648,\n",
      "                             'play': 30.834221149852965,\n",
      "                             'total': 80.11899457703112},\n",
      "          'per_game_sec': {'init': 0.03571852283851812,\n",
      "                           'play': 0.022359841297935435,\n",
      "                           'total': 0.0580993434206172},\n",
      "          'per_turn_ms': 0.3213370831407412},\n",
      " 'total_turns': 95956}\n"
     ]
    }
   ],
   "source": [
    "# simulate random strategy against random placement\n",
    "sim = Simulation(SearchHuntStrategy, RandomPlacement).run(max_secs=10)\n",
    "pprint(sim.metrics())"
   ]
  },
  {
   "cell_type": "code",
   "execution_count": 7,
   "metadata": {},
   "outputs": [
    {
     "data": {
      "text/html": [
       "<video src=\".ipynb_temp.mp4\" controls  >\n",
       "      Your browser does not support the <code>video</code> element.\n",
       "    </video>"
      ],
      "text/plain": [
       "<IPython.core.display.Video object>"
      ]
     },
     "execution_count": 7,
     "metadata": {},
     "output_type": "execute_result"
    }
   ],
   "source": [
    "sim = Simulation(SearchHuntStrategy, RandomPlacement)\n",
    "sim.display_one(interval=100, ipynb=True)"
   ]
  },
  {
   "cell_type": "code",
   "execution_count": null,
   "metadata": {},
   "outputs": [],
   "source": []
  }
 ],
 "metadata": {
  "interpreter": {
   "hash": "b9a52ffdf267b4e42358d44cfde492470604e372a9e150a7a9444f271c46d65e"
  },
  "kernelspec": {
   "display_name": "Python 3.10.2 64-bit ('battleship': conda)",
   "language": "python",
   "name": "python3"
  },
  "language_info": {
   "codemirror_mode": {
    "name": "ipython",
    "version": 3
   },
   "file_extension": ".py",
   "mimetype": "text/x-python",
   "name": "python",
   "nbconvert_exporter": "python",
   "pygments_lexer": "ipython3",
   "version": "3.10.2"
  },
  "orig_nbformat": 4
 },
 "nbformat": 4,
 "nbformat_minor": 2
}
