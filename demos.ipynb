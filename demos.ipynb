{
 "cells": [
  {
   "cell_type": "code",
   "execution_count": 1,
   "metadata": {},
   "outputs": [],
   "source": [
    "import os, json\n",
    "from pprint import pprint"
   ]
  },
  {
   "cell_type": "code",
   "execution_count": 2,
   "metadata": {},
   "outputs": [],
   "source": [
    "import numpy as np\n",
    "import pandas as pd\n",
    "import matplotlib.pyplot as plt\n"
   ]
  },
  {
   "cell_type": "code",
   "execution_count": 3,
   "metadata": {},
   "outputs": [],
   "source": [
    "from src import ROWS, COLS, BOARD_SIZE, SHIP_LENS\n",
    "from src.placements import *\n",
    "from src.strategy import *\n",
    "from src.game import Game, Simulation\n",
    "from src.board import Board, SquareState"
   ]
  },
  {
   "cell_type": "code",
   "execution_count": 4,
   "metadata": {},
   "outputs": [],
   "source": [
    "%matplotlib inline"
   ]
  },
  {
   "cell_type": "code",
   "execution_count": 4,
   "metadata": {},
   "outputs": [
    {
     "data": {
      "image/png": "[encoded data removed]",
      "text/plain": [
       "<Figure size 432x288 with 2 Axes>"
      ]
     },
     "metadata": {
      "needs_background": "light"
     },
     "output_type": "display_data"
    }
   ],
   "source": [
    "# probability of finding a ship in a given square with RandomPlacement\n",
    "RandomPlacement.show_distribution(1000)"
   ]
  },
  {
   "cell_type": "code",
   "execution_count": 5,
   "metadata": {},
   "outputs": [
    {
     "name": "stdout",
     "output_type": "stream",
     "text": [
      "Simulating 10 (ish) seconds of RandomStrategy and RandomPlacement in 8 processes\n",
      "{'avg_turns': 95.42792178262847,\n",
      " 'n_simulations': 2199,\n",
      " 'std_dev_turns': 4.724917048028817,\n",
      " 'time': {'cumulative_sec': {'init': 44.242188177930075,\n",
      "                             'play': 35.86975669603271,\n",
      "                             'total': 80.13833657802024},\n",
      "          'per_game_sec': {'init': 0.020119230640259243,\n",
      "                           'play': 0.016311849338805234,\n",
      "                           'total': 0.03644308166349261},\n",
      "          'per_turn_ms': 0.17093371661138507},\n",
      " 'total_turns': 209846}\n"
     ]
    }
   ],
   "source": [
    "# simulate random strategy against random placement\n",
    "sim = Simulation(RandomStrategy, RandomPlacement).run(max_secs=10)\n",
    "pprint(sim.metrics())"
   ]
  },
  {
   "cell_type": "code",
   "execution_count": 8,
   "metadata": {},
   "outputs": [
    {
     "name": "stdout",
     "output_type": "stream",
     "text": [
      "Simulating 10 (ish) seconds of EliminationStrategy and RandomPlacement in 8 processes\n",
      "{'avg_turns': 58.666666666666664,\n",
      " 'n_simulations': 15,\n",
      " 'std_dev_turns': 9.897249898611005,\n",
      " 'time': {'cumulative_sec': {'init': 0.7578457679774147,\n",
      "                             'play': 130.38189305701235,\n",
      "                             'total': 131.1399503769644},\n",
      "          'per_game_sec': {'init': 0.05052305119849431,\n",
      "                           'play': 8.692126203800823,\n",
      "                           'total': 8.742663358464293},\n",
      "          'per_turn_ms': 148.16124211024132},\n",
      " 'total_turns': 880}\n"
     ]
    }
   ],
   "source": [
    "# simulate elimination strategy against random placement\n",
    "sim = Simulation(EliminationStrategy, RandomPlacement).run(max_secs=10)\n",
    "pprint(sim.metrics())"
   ]
  },
  {
   "cell_type": "code",
   "execution_count": 9,
   "metadata": {},
   "outputs": [
    {
     "name": "stdout",
     "output_type": "stream",
     "text": [
      "Simulating 10 (ish) seconds of SearchHuntStrategy and RandomPlacement in 8 processes\n",
      "{'avg_turns': 69.52474469756481,\n",
      " 'n_simulations': 2546,\n",
      " 'std_dev_turns': 16.61975916702333,\n",
      " 'time': {'cumulative_sec': {'init': 49.99425141217944,\n",
      "                             'play': 30.034447523139534,\n",
      "                             'total': 80.05813358996238},\n",
      "          'per_game_sec': {'init': 0.019636390971005276,\n",
      "                           'play': 0.01179671937279636,\n",
      "                           'total': 0.03144467148073935},\n",
      "          'per_turn_ms': 0.16967655795231643},\n",
      " 'total_turns': 177010}\n"
     ]
    }
   ],
   "source": [
    "# simulate random strategy against random placement\n",
    "sim = Simulation(SearchHuntStrategy, RandomPlacement).run(max_secs=10)\n",
    "pprint(sim.metrics())"
   ]
  },
  {
   "cell_type": "code",
   "execution_count": 10,
   "metadata": {},
   "outputs": [
    {
     "data": {
      "text/html": [
       "<video src=\".ipynb_temp.mp4\" controls  >\n",
       "      Your browser does not support the <code>video</code> element.\n",
       "    </video>"
      ],
      "text/plain": [
       "<IPython.core.display.Video object>"
      ]
     },
     "execution_count": 10,
     "metadata": {},
     "output_type": "execute_result"
    }
   ],
   "source": [
    "sim = Simulation(SearchHuntStrategy, RandomPlacement)\n",
    "sim.display_one(ipynb=True)"
   ]
  },
  {
   "cell_type": "code",
   "execution_count": null,
   "metadata": {},
   "outputs": [],
   "source": []
  }
 ],
 "metadata": {
  "interpreter": {
   "hash": "b9a52ffdf267b4e42358d44cfde492470604e372a9e150a7a9444f271c46d65e"
  },
  "kernelspec": {
   "display_name": "Python 3.10.2 64-bit ('battleship': conda)",
   "language": "python",
   "name": "python3"
  },
  "language_info": {
   "codemirror_mode": {
    "name": "ipython",
    "version": 3
   },
   "file_extension": ".py",
   "mimetype": "text/x-python",
   "name": "python",
   "nbconvert_exporter": "python",
   "pygments_lexer": "ipython3",
   "version": "3.10.2"
  },
  "orig_nbformat": 4
 },
 "nbformat": 4,
 "nbformat_minor": 2
}
